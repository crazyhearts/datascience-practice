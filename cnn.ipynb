{
  "nbformat": 4,
  "nbformat_minor": 0,
  "metadata": {
    "colab": {
      "name": "cnn.ipynb",
      "version": "0.3.2",
      "provenance": [],
      "include_colab_link": true
    },
    "kernelspec": {
      "name": "python3",
      "display_name": "Python 3"
    },
    "accelerator": "GPU"
  },
  "cells": [
    {
      "cell_type": "markdown",
      "metadata": {
        "id": "view-in-github",
        "colab_type": "text"
      },
      "source": [
        "<a href=\"https://colab.research.google.com/github/crazyhearts/datascience-practice/blob/master/cnn.ipynb\" target=\"_parent\"><img src=\"https://colab.research.google.com/assets/colab-badge.svg\" alt=\"Open In Colab\"/></a>"
      ]
    },
    {
      "metadata": {
        "id": "mk5ioEfLZPFK",
        "colab_type": "code",
        "colab": {}
      },
      "cell_type": "code",
      "source": [
        "import pandas as pd\n",
        "import numpy as np"
      ],
      "execution_count": 0,
      "outputs": []
    },
    {
      "metadata": {
        "id": "IYVC4W_CftIt",
        "colab_type": "code",
        "outputId": "3611cb5e-9b46-4fb9-8569-80ed7025aa2e",
        "colab": {
          "base_uri": "https://localhost:8080/",
          "height": 51
        }
      },
      "cell_type": "code",
      "source": [
        "import pandas as pd\n",
        "import numpy as np\n",
        "import re, nltk\n",
        "\n",
        "TRAIN_GRIEV_FILE = \"GrievancesData_Train.csv\"\n",
        "TEST_GRIEV_FILE = \"GrievancesData_Test.csv\"\n",
        "TRAIN_TARGET =\"Train.csv\"\n",
        "TEST_TARGET = \"Test.csv\"\n",
        "\n",
        "def loadDataSet(filename):\n",
        "    data = pd.read_csv(filename, parse_dates=True)\n",
        "    data.DateOfGrievance = data.DateOfGrievance.astype('datetime64')\n",
        "    data.DateOfResolution = data.DateOfResolution.astype('datetime64')\n",
        "    data['Grievance_Days'] = (data.DateOfResolution - data.DateOfGrievance).astype('timedelta64[D]')\n",
        "    data = data.dropna()\n",
        "    return(data)\n",
        "    \n",
        "trainData = loadDataSet(TRAIN_GRIEV_FILE)\n",
        "#testData = loadDataSet(TEST_GRIEV_FILE)"
      ],
      "execution_count": 2,
      "outputs": [
        {
          "output_type": "stream",
          "text": [
            "/usr/local/lib/python3.6/dist-packages/pandas/core/internals.py:3462: FutureWarning: Passing in 'datetime64' dtype with no frequency is deprecated and will raise in a future version. Please pass in 'datetime64[ns]' instead.\n",
            "  return self.apply('astype', dtype=dtype, **kwargs)\n"
          ],
          "name": "stderr"
        }
      ]
    },
    {
      "metadata": {
        "id": "vX6wBx41f7nl",
        "colab_type": "code",
        "colab": {}
      },
      "cell_type": "code",
      "source": [
        "colsToDrop = ['GrievanceID', 'State', 'DateOfGrievance', 'Grievance_Category', 'DateOfResolution']\n",
        "trainData = trainData.drop(colsToDrop, axis=1)"
      ],
      "execution_count": 0,
      "outputs": []
    },
    {
      "metadata": {
        "id": "5vaVpTwMA2ij",
        "colab_type": "code",
        "outputId": "1a19fcf5-a271-4b82-bf10-0156ae90430c",
        "colab": {
          "base_uri": "https://localhost:8080/",
          "height": 202
        }
      },
      "cell_type": "code",
      "source": [
        "trainData.head()"
      ],
      "execution_count": 4,
      "outputs": [
        {
          "output_type": "execute_result",
          "data": {
            "text/html": [
              "<div>\n",
              "<style scoped>\n",
              "    .dataframe tbody tr th:only-of-type {\n",
              "        vertical-align: middle;\n",
              "    }\n",
              "\n",
              "    .dataframe tbody tr th {\n",
              "        vertical-align: top;\n",
              "    }\n",
              "\n",
              "    .dataframe thead th {\n",
              "        text-align: right;\n",
              "    }\n",
              "</style>\n",
              "<table border=\"1\" class=\"dataframe\">\n",
              "  <thead>\n",
              "    <tr style=\"text-align: right;\">\n",
              "      <th></th>\n",
              "      <th>BankID</th>\n",
              "      <th>GrievanceDescription</th>\n",
              "      <th>LineOfBusiness</th>\n",
              "      <th>ResolutionComments</th>\n",
              "      <th>Disputed</th>\n",
              "      <th>Grievance_Days</th>\n",
              "    </tr>\n",
              "  </thead>\n",
              "  <tbody>\n",
              "    <tr>\n",
              "      <th>0</th>\n",
              "      <td>Bank5279</td>\n",
              "      <td>Bank5279 Research dpt. \\nXXXX XXXX XXXX XXXX,...</td>\n",
              "      <td>Mortgage</td>\n",
              "      <td>Closed with explanation</td>\n",
              "      <td>No</td>\n",
              "      <td>11.0</td>\n",
              "    </tr>\n",
              "    <tr>\n",
              "      <th>1</th>\n",
              "      <td>Bank5287</td>\n",
              "      <td>I had a mortgage with from XXXX of XXXX to XX...</td>\n",
              "      <td>Mortgage</td>\n",
              "      <td>Closed with explanation</td>\n",
              "      <td>Yes</td>\n",
              "      <td>22.0</td>\n",
              "    </tr>\n",
              "    <tr>\n",
              "      <th>2</th>\n",
              "      <td>Bank5286</td>\n",
              "      <td>In XXXX XXXX, I was given a {$1100.00} credit...</td>\n",
              "      <td>Credit card</td>\n",
              "      <td>Closed with monetary relief</td>\n",
              "      <td>Yes</td>\n",
              "      <td>22.0</td>\n",
              "    </tr>\n",
              "    <tr>\n",
              "      <th>3</th>\n",
              "      <td>Bank5279</td>\n",
              "      <td>Our Mortgage was sold to Bank5279 in XXXX of ...</td>\n",
              "      <td>Mortgage</td>\n",
              "      <td>Closed with explanation</td>\n",
              "      <td>No</td>\n",
              "      <td>11.0</td>\n",
              "    </tr>\n",
              "    <tr>\n",
              "      <th>4</th>\n",
              "      <td>Bank5286</td>\n",
              "      <td>We started dealing with Citi Mortgage back in...</td>\n",
              "      <td>Mortgage</td>\n",
              "      <td>Closed with explanation</td>\n",
              "      <td>No</td>\n",
              "      <td>11.0</td>\n",
              "    </tr>\n",
              "  </tbody>\n",
              "</table>\n",
              "</div>"
            ],
            "text/plain": [
              "     BankID                               GrievanceDescription LineOfBusiness  \\\n",
              "0  Bank5279   Bank5279 Research dpt. \\nXXXX XXXX XXXX XXXX,...       Mortgage   \n",
              "1  Bank5287   I had a mortgage with from XXXX of XXXX to XX...       Mortgage   \n",
              "2  Bank5286   In XXXX XXXX, I was given a {$1100.00} credit...    Credit card   \n",
              "3  Bank5279   Our Mortgage was sold to Bank5279 in XXXX of ...       Mortgage   \n",
              "4  Bank5286   We started dealing with Citi Mortgage back in...       Mortgage   \n",
              "\n",
              "            ResolutionComments Disputed  Grievance_Days  \n",
              "0      Closed with explanation       No            11.0  \n",
              "1      Closed with explanation      Yes            22.0  \n",
              "2  Closed with monetary relief      Yes            22.0  \n",
              "3      Closed with explanation       No            11.0  \n",
              "4      Closed with explanation       No            11.0  "
            ]
          },
          "metadata": {
            "tags": []
          },
          "execution_count": 4
        }
      ]
    },
    {
      "metadata": {
        "id": "UP9s3nD1BLEb",
        "colab_type": "code",
        "colab": {}
      },
      "cell_type": "code",
      "source": [
        "import re\n",
        "\n",
        "STOPWORDS = \"words2remove.csv\"\n",
        "filterWordsDf = pd.read_csv(STOPWORDS)\n",
        "filterWords = [word.strip() for word in filterWordsDf.stopwords]\n",
        "filterWords = [re.escape(str(word).lower()) for word in filterWords]"
      ],
      "execution_count": 0,
      "outputs": []
    },
    {
      "metadata": {
        "id": "y8Y_gqgRgR0l",
        "colab_type": "code",
        "colab": {}
      },
      "cell_type": "code",
      "source": [
        "def removeStopWordsAndFilterText(review):\n",
        "  keepOnlyAlphabets = re.compile(\"[^A-Za-z]+\")\n",
        "  review = re.sub(keepOnlyAlphabets, \" \", review)\n",
        "  \n",
        "  review = re.sub(r'\\b(x{2,}|X{2,})\\b',\"\",review)\n",
        "  review = re.sub(r'[^\\x00-\\x7F]+', \"\", review)\n",
        "  review = review.lower()\n",
        "  \n",
        "  for word in filterWords:\n",
        "    review = re.sub(r'\\b{}\\b'.format(word), \" \", review)\n",
        "    \n",
        "  review = re.sub(r\"\\s{2,}\", \" \", review)\n",
        "  review = review.strip()\n",
        "  return(review)"
      ],
      "execution_count": 0,
      "outputs": []
    },
    {
      "metadata": {
        "id": "GMYAnh0OCVv1",
        "colab_type": "code",
        "colab": {
          "base_uri": "https://localhost:8080/",
          "height": 54
        },
        "outputId": "d922c009-6375-46f7-d820-98e737eb533d"
      },
      "cell_type": "code",
      "source": [
        "print(filterWords)"
      ],
      "execution_count": 64,
      "outputs": [
        {
          "output_type": "stream",
          "text": [
            "['\\x08att\\\\/citbank\\x08', '\\x08bank5309\\\\ bank\\x08', '\\x08barclay\\\\ bank\\x08', '\\x08barclaysbank\\\\ delaware\\x08', '\\x08brclysbank\\\\ de\\x08', '\\x08ciitbank\\x08', '\\x08ciitibank\\x08', '\\x08ciizensbank\\x08', '\\x08citbank\\x08', '\\x08citbank\\\\ mortgage\\x08', '\\x08cititbank\\x08', '\\x08citizensbank\\x08', '\\x08citybank\\x08', '\\x08citybank\\\\ visa\\x08', '\\x08everbank\\x08', '\\x08everbank\\\\ mortgage\\x08', '\\x08everbanks\\x08', '\\x08everhome\\\\/everbank\\x08', '\\x08firstbank\\\\ card\\x08', '\\x08keybank\\x08', '\\x08keybank\\\\ national\\\\ association\\x08', '\\x08keybank\\\\/xxxx\\x08', '\\x08nonbank\\\\ and\\\\ bank\\x08', '\\x08regulatorydept\\\\ banking\\\\ standards\\x08', '\\x08us\\\\.bank\\x08', '\\x08usbank\\x08', '\\x08usbank\\\\ denial\\\\ \\\\&\\x08', '\\x08usbank\\\\ na\\x08', '\\x08usbank\\\\.com\\x08', '\\x08bank\\\\+\\x08', '\\x08the\\\\ office\\\\ of\\\\ the\\\\ chairman\\\\ of\\\\ citizens\\\\ bank\\x08', '\\x08the\\\\ usbank\\\\ team\\x08', '\\x08comenity\\x08', '\\x08the\\\\ usbank\\\\ team\\x08', '\\x08the\\\\ office\\\\ of\\\\ the\\\\ chairman\\\\ of\\\\ citizens\\\\ bank\\x08', '\\x08fannie\\\\ may\\x08', '\\x08bank\\\\+\\x08', '\\x08hobank5338\\x08', '\\x08bank5234\\x08', '\\x08bank5237\\x08', '\\x08bank5239\\x08', '\\x08bank5242\\x08', '\\x08bank5245\\x08', '\\x08bank5247\\x08', '\\x08bank5249\\x08', '\\x08bank5251\\x08', '\\x08bank5252\\x08', '\\x08bank5254\\x08', '\\x08bank5256\\x08', '\\x08bank5257\\x08', '\\x08bank5260\\x08', '\\x08bank5261\\x08', '\\x08bank5262\\x08', '\\x08bank5265\\x08', '\\x08bank5266\\x08', '\\x08bank5270\\x08', '\\x08bank5274\\x08', '\\x08bank5277\\x08', '\\x08bank5279\\x08', '\\x08bank5285\\x08', '\\x08bank5286\\x08', '\\x08bank5287\\x08', '\\x08bank5296\\x08', '\\x08bank5298\\x08', '\\x08bank5303\\x08', '\\x08bank5308\\x08', '\\x08bank5309\\x08', '\\x08bank5313\\x08', '\\x08bank5324\\x08', '\\x08bank5326\\x08', '\\x08bank5328\\x08', '\\x08bank5330\\x08', '\\x08bank5336\\x08', '\\x08bank5338\\x08', '\\x08bank5340\\x08', '\\x08bank5341\\x08', '\\x08bank5342\\x08', '\\x08bank5346\\x08', '\\x08bank5348\\x08', '\\x08bank5350\\x08', '\\x08bank5351\\x08', '\\x08bank5356\\x08', '\\x08bank5359\\x08', '\\x08bank5360\\x08', '\\x08bank5364\\x08', '\\x08bank5367\\x08', '\\x08bank5375\\x08', '\\x08bank5378\\x08', '\\x08bank5380\\x08', '\\x08bank5382\\x08', '\\x08bank5383\\x08', '\\x08bank5386\\x08', '\\x08bank5387\\x08', '\\x08bank5388\\x08', '\\x08bank5390\\x08', '\\x08bank5397\\x08', '\\x08bank5405\\x08', '\\x08bank5408\\x08', '\\x08bank5410\\x08', '\\x08bank5414\\x08', '\\x08bank5415\\x08', '\\x08bank5418\\x08', '\\x08bank5421\\x08', '\\x08bank5422\\x08', '\\x08bank5423\\x08', '\\x08bank5425\\x08', '\\x08bank5426\\x08', '\\x08bank5428\\x08', '\\x08bank5430\\x08', '\\x08bank5432\\x08', '\\x08bank5434\\x08', '\\x08bank5436\\x08', '\\x08bank5438\\x08', '\\x08bank5439\\x08', '\\x08bank5440\\x08', '\\x08bank5445\\x08', '\\x08bank5446\\x08', '\\x08bank5448\\x08', '\\x08bank5449\\x08', '\\x08bank5451\\x08', '\\x08bank5453\\x08', '\\x08bank5454\\x08', '\\x08bank5455\\x08', '\\x08bank5459\\x08', '\\x08castlepayday\\\\.com\\x08', '\\x08\\\\\"bank5410\\\\ \\\\,\\\\ inc\\\\\"\\x08', '\\x08target\\\\.com\\x08', '\\x08bank5418consumerusa\\\\.com\\\\/\\x08', '\\x08cwalt\\\\ inc\\x08', '\\x08dot\\\\.com\\x08', '\\x08bank5418\\\\ usa\\\\ inc\\x08', '\\x08citicards\\\\.com\\x08', '\\x08home\\\\ depot\\\\.com\\x08', '\\x08\\\\/\\\\/www\\\\.acs\\\\-education\\\\.com\\\\/\\x08', '\\x08kohls\\\\.com\\x08', '\\x08sps\\\\ bank5421\\\\ inc\\x08', '\\x08ashford\\\\.com\\x08', '\\x08jared\\\\.com\\x08', '\\x08loan\\\\ depot\\\\.com\\x08', '\\x08eastbay\\\\.com\\x08', '\\x08sears\\\\ \\\\(\\\\ searscard\\\\.com\\x08', '\\x08bank5309\\\\.com\\\\/\\x08', '\\x08\\\\\"rcs\\\\ bank5410\\\\ \\\\,\\\\ inc\\\\\"\\x08', '\\x08macys\\\\.com\\x08', '\\x08bank5382\\\\ servicing\\\\ inc\\x08', '\\x08inc\\x08', '\\x08auction\\\\.com\\x08', '\\x08citimortgage\\\\ inc\\x08', '\\x08consumeraffairs\\\\.com\\x08', '\\x08avant\\\\ inc\\x08', '\\x08ally\\\\ financial\\\\ inc\\x08', '\\x08paypalcredit\\\\.com\\x08', '\\x08bank5421\\\\ services\\\\ inc\\x08', '\\x08bank5378\\\\ inc\\x08', '\\x08linkedin\\\\.com\\x08', '\\x08kohl\\\\.com\\x08', '\\x08bank5410\\\\ services\\\\ inc\\x08', '\\x08bank5453\\\\.com\\x08', '\\x08\\\\/\\\\ \\\\/\\\\ bank5421\\\\ inc\\x08', '\\x08salliemae\\\\.com\\x08', '\\x08depot\\\\.com\\x08', '\\x08bank5421\\\\ inc\\x08', '\\x08sears\\\\.com\\x08', '\\x08roadloans\\\\.com\\x08', '\\x08bank5418\\\\ usa\\\\ inc\\x08', '\\x08bestbuy\\\\.com\\x08', '\\x08kmfusa\\\\.com\\x08', '\\x08citimortgage\\\\ inc\\x08', '\\x08bank5451\\\\.com\\x08', '\\x08citigroup\\\\ inc\\x08', '\\x08target\\\\.com\\x08', '\\x08bestbuy\\\\.com\\x08', '\\x08hubzu\\\\.com\\x08', '\\x08americanexpress\\\\.com\\x08', '\\x08bank5455\\\\ inc\\x08', '\\x08www\\\\.acs\\\\-education\\\\.com\\x08', '\\x08bank5338\\\\.com\\x08', '\\x08\\\\\"bank5421\\\\ \\\\,\\\\ inc\\\\\"\\x08', '\\x08a\\\\ bank5421\\\\ cervicing\\\\ inc\\x08', '\\x08tdcardservices\\\\.com\\x08', '\\x08\\\\\"bank5274\\\\ \\\\,\\\\ inc\\\\\"\\x08', '\\x08educational\\\\ computer\\\\ systems\\\\ inc\\x08', '\\x08the\\\\ barclaycardus\\\\.com\\\\ upromise\\x08', '\\x08bank5449\\\\ system\\\\ inc\\x08', '\\x08bank5449\\\\ systems\\\\ inc\\x08', '\\x08avantcredit\\\\.com\\x08', '\\x08\\\\\"citimortgage\\\\,\\\\ inc\\\\\"\\x08', '\\x08springleaf\\\\ mortgage\\\\ services\\\\ inc\\x08', '\\x08ocwencustomers\\\\.com\\x08', '\\x08paypal\\\\ inc\\x08', '\\x08myloancare\\\\.com\\x08', '\\x08bank5410\\\\ inc\\x08', '\\x08bank5436\\\\ mortgage\\\\ inc\\x08', '\\x08mytitlesupport\\\\.com\\x08', '\\x08servicer\\\\ sps\\\\ inc\\x08', '\\x08fidelity\\\\.com\\x08', '\\x08realestateagent\\\\.com\\x08', '\\x08volvocarfinance\\\\.com\\x08', '\\x08sps\\\\ loan\\\\ servicing\\\\ inc\\x08', '\\x08american\\\\ mortgage\\\\ home\\\\ mortgage\\\\ servicing\\\\ inc\\x08', '\\x08loan\\\\ servicer\\\\ \\\\-\\\\ bank5421\\\\ inc\\x08', '\\x08paypal\\\\.com\\x08', '\\x08citicard\\\\/citi\\\\.com\\\\/\\x08', '\\x08bank5423\\\\ inc\\x08', '\\x08trans\\\\ world\\\\ systems\\\\ inc\\x08', '\\x08\\\\\"citimortgage\\\\ \\\\,\\\\ inc\\\\\"\\x08', '\\x08caliberhomeloans\\\\.com\\x08', '\\x08volkswagen\\\\ credit\\\\ inc\\x08', '\\x08homeward\\\\ residential\\\\ inc\\x08', '\\x08statebridgecompany\\\\.com\\x08', '\\x08bank5279ms\\\\.com\\x08', '\\x08bank5348\\\\ mortgage\\\\ services\\\\ inc\\x08', '\\x08american\\\\ home\\\\ mortgage\\\\ servicing\\\\ inc\\x08', '\\x08\\\\\"sallie\\\\ mae\\\\ \\\\,\\\\ inc\\\\\"\\x08', '\\x08\\\\\"citimortgage\\\\ \\\\,\\\\ inc\\\\\"\\x08', '\\x08sps\\\\ inc\\x08', '\\x08bank\\\\ research\\x08', '\\x08research\\x08', '\\x08dept\\x08', '\\x08ak\\x08', '\\x08al\\x08', '\\x08ar\\x08', '\\x08as\\x08', '\\x08az\\x08', '\\x08ca\\x08', '\\x08co\\x08', '\\x08ct\\x08', '\\x08dc\\x08', '\\x08de\\x08', '\\x08fl\\x08', '\\x08ga\\x08', '\\x08gu\\x08', '\\x08hi\\x08', '\\x08ia\\x08', '\\x08id\\x08', '\\x08il\\x08', '\\x08in\\x08', '\\x08ks\\x08', '\\x08ky\\x08', '\\x08la\\x08', '\\x08ma\\x08', '\\x08md\\x08', '\\x08me\\x08', '\\x08mi\\x08', '\\x08mn\\x08', '\\x08mo\\x08', '\\x08mp\\x08', '\\x08ms\\x08', '\\x08mt\\x08', '\\x08nc\\x08', '\\x08nd\\x08', '\\x08ne\\x08', '\\x08nh\\x08', '\\x08nj\\x08', '\\x08nm\\x08', '\\x08nv\\x08', '\\x08ny\\x08', '\\x08oh\\x08', '\\x08ok\\x08', '\\x08or\\x08', '\\x08pa\\x08', '\\x08pr\\x08', '\\x08ri\\x08', '\\x08sc\\x08', '\\x08sd\\x08', '\\x08tn\\x08', '\\x08tx\\x08', '\\x08ut\\x08', '\\x08va\\x08', '\\x08vi\\x08', '\\x08vt\\x08', '\\x08wa\\x08', '\\x08wi\\x08', '\\x08wv\\x08', '\\x08wy\\x08', '\\x08alaska\\x08', '\\x08alabama\\x08', '\\x08arkansas\\x08', '\\x08american\\\\ samoa\\x08', '\\x08arizona\\x08', '\\x08california\\x08', '\\x08colorado\\x08', '\\x08connecticut\\x08', '\\x08district\\\\ of\\\\ columbia\\x08', '\\x08delaware\\x08', '\\x08florida\\x08', '\\x08georgia\\x08', '\\x08guam\\x08', '\\x08hawaii\\x08', '\\x08iowa\\x08', '\\x08idaho\\x08', '\\x08illinois\\x08', '\\x08indiana\\x08', '\\x08kansas\\x08', '\\x08kentucky\\x08', '\\x08louisiana\\x08', '\\x08massachusetts\\x08', '\\x08maryland\\x08', '\\x08maine\\x08', '\\x08michigan\\x08', '\\x08minnesota\\x08', '\\x08missouri\\x08', '\\x08northern\\\\ mariana\\\\ islands\\x08', '\\x08mississippi\\x08', '\\x08montana\\x08', '\\x08national\\x08', '\\x08north\\\\ carolina\\x08', '\\x08north\\\\ dakota\\x08', '\\x08nebraska\\x08', '\\x08new\\\\ hampshire\\x08', '\\x08new\\\\ jersey\\x08', '\\x08new\\\\ mexico\\x08', '\\x08nevada\\x08', '\\x08new\\\\ york\\x08', '\\x08ohio\\x08', '\\x08oklahoma\\x08', '\\x08oregon\\x08', '\\x08pennsylvania\\x08', '\\x08puerto\\\\ rico\\x08', '\\x08rhode\\\\ island\\x08', '\\x08south\\\\ carolina\\x08', '\\x08south\\\\ dakota\\x08', '\\x08tennessee\\x08', '\\x08texas\\x08', '\\x08utah\\x08', '\\x08virginia\\x08', '\\x08virgin\\\\ islands\\x08', '\\x08vermont\\x08', '\\x08washington\\x08', '\\x08wisconsin\\x08', '\\x08west\\\\ virginia\\x08', '\\x08wyoming\\x08', '\\x08hud\\x08', '\\x08dept\\x08', '\\x08department\\x08', '\\x08research\\x08', '\\x08dpt\\x08', '\\x08the\\x08', '\\x08i\\x08', '\\x08to\\x08', '\\x08and\\x08', '\\x08a\\x08', '\\x08my\\x08', '\\x08of\\x08', '\\x08that\\x08', '\\x08was\\x08', '\\x08they\\x08', '\\x08on\\x08', '\\x08for\\x08', '\\x08have\\x08', '\\x08not\\x08', '\\x08this\\x08', '\\x08is\\x08', '\\x08with\\x08', '\\x08bank\\x08', '\\x08it\\x08', '\\x08credit\\x08', '\\x08loan\\x08', '\\x08payment\\x08', '\\x08from\\x08', '\\x08had\\x08', '\\x08account\\x08', '\\x08we\\x08', '\\x08be\\x08', '\\x08would\\x08', '\\x08card\\x08', '\\x08been\\x08', '\\x08by\\x08', '\\x08them\\x08', '\\x08an\\x08', '\\x08at\\x08', '\\x08but\\x08', '\\x08no\\x08', '\\x08are\\x08', '\\x08did\\x08', '\\x08mortgage\\x08', '\\x08payments\\x08', '\\x08told\\x08', '\\x08t\\x08', '\\x08has\\x08', '\\x08received\\x08', '\\x08were\\x08', '\\x08when\\x08', '\\x08do\\x08', '\\x08which\\x08', '\\x08n\\x08', '\\x08all\\x08', '\\x08time\\x08', '\\x08their\\x08', '\\x08our\\x08', '\\x08am\\x08', '\\x08s\\x08', '\\x08so\\x08', '\\x08called\\x08', '\\x08after\\x08', '\\x08pay\\x08', '\\x08because\\x08', '\\x08if\\x08', '\\x08due\\x08', '\\x08any\\x08', '\\x08you\\x08', '\\x08get\\x08', '\\x08out\\x08', '\\x08can\\x08', '\\x08interest\\x08', '\\x08never\\x08', '\\x08will\\x08', '\\x08paid\\x08', '\\x08made\\x08', '\\x08information\\x08', '\\x08up\\x08', '\\x08back\\x08']\n"
          ],
          "name": "stdout"
        }
      ]
    },
    {
      "metadata": {
        "id": "EJ0OjVYb9e1F",
        "colab_type": "code",
        "colab": {
          "base_uri": "https://localhost:8080/",
          "height": 54
        },
        "outputId": "e2520be2-aae1-44cd-df72-2c69d9c97e6b"
      },
      "cell_type": "code",
      "source": [
        "#review = trainData.GrievanceDescription[0].lower()\n",
        "#print(removeStopWordsAndFilterText(review))"
      ],
      "execution_count": 82,
      "outputs": [
        {
          "output_type": "stream",
          "text": [
            "name customer refinanced home new funded included copies statement closing showing exactly what check amount dated escrow however escrow statement enclosed shows addition there added total like know what happened ballance escrow what there left escrow spoken personel your facility nobody gave name feel obligated forward attorney general housing urban development expect hear representative\n"
          ],
          "name": "stdout"
        }
      ]
    },
    {
      "metadata": {
        "id": "yaYBMmaT9Sdc",
        "colab_type": "code",
        "colab": {
          "base_uri": "https://localhost:8080/",
          "height": 54
        },
        "outputId": "1341ddd8-41a3-44c2-99da-bfd7e01bd07f"
      },
      "cell_type": "code",
      "source": [
        "#removeStopWordsAndFilterText(trainData.GrievanceDescription[0])"
      ],
      "execution_count": 9,
      "outputs": [
        {
          "output_type": "execute_result",
          "data": {
            "text/plain": [
              "'bank research dpt ca name is was the customer for this loan refinanced my home on the new loan funded on have included copies of my statement from bank and the hud from the closing showing exactly what was paid to bank received check for the amount of on dated for my escrow however the escrow from the statement enclosed shows in addition there was added to that in the payment for total of would like to know what happened to the ballance of my escrow what account is there for the left in escrow have called and spoken to personel at your facility nobody gave me name feel obligated to forward this to the attorney general and the department of housing urban development expect to hear from representative of bank by'"
            ]
          },
          "metadata": {
            "tags": []
          },
          "execution_count": 9
        }
      ]
    },
    {
      "metadata": {
        "id": "plwxNGvfrFkX",
        "colab_type": "code",
        "colab": {}
      },
      "cell_type": "code",
      "source": [
        "trainData['clean_GrievancesDesc'] = trainData.GrievanceDescription.apply(removeStopWordsAndFilterText)"
      ],
      "execution_count": 0,
      "outputs": []
    },
    {
      "metadata": {
        "id": "F1IbdxHyw8dj",
        "colab_type": "code",
        "colab": {}
      },
      "cell_type": "code",
      "source": [
        "trainData.to_csv(\"cleaned.csv\")"
      ],
      "execution_count": 0,
      "outputs": []
    },
    {
      "metadata": {
        "id": "-cOEmMidxBVN",
        "colab_type": "code",
        "outputId": "aa25cfbf-933c-4ca1-edbd-52216aad599a",
        "colab": {
          "base_uri": "https://localhost:8080/",
          "height": 863
        }
      },
      "cell_type": "code",
      "source": [
        "from google.colab import files\n",
        "files.download('cleaned.csv') "
      ],
      "execution_count": 89,
      "outputs": [
        {
          "output_type": "stream",
          "text": [
            "----------------------------------------\n",
            "Exception happened during processing of request from ('::ffff:127.0.0.1', 43112, 0, 0)\n",
            "Traceback (most recent call last):\n",
            "  File \"/usr/lib/python3.6/socketserver.py\", line 317, in _handle_request_noblock\n",
            "    self.process_request(request, client_address)\n",
            "  File \"/usr/lib/python3.6/socketserver.py\", line 348, in process_request\n",
            "    self.finish_request(request, client_address)\n",
            "  File \"/usr/lib/python3.6/socketserver.py\", line 361, in finish_request\n",
            "    self.RequestHandlerClass(request, client_address, self)\n",
            "  File \"/usr/lib/python3.6/socketserver.py\", line 721, in __init__\n",
            "    self.handle()\n",
            "  File \"/usr/lib/python3.6/http/server.py\", line 418, in handle\n",
            "    self.handle_one_request()\n",
            "  File \"/usr/lib/python3.6/http/server.py\", line 406, in handle_one_request\n",
            "    method()\n",
            "  File \"/usr/lib/python3.6/http/server.py\", line 639, in do_GET\n",
            "    self.copyfile(f, self.wfile)\n",
            "  File \"/usr/lib/python3.6/http/server.py\", line 800, in copyfile\n",
            "    shutil.copyfileobj(source, outputfile)\n",
            "  File \"/usr/lib/python3.6/shutil.py\", line 82, in copyfileobj\n",
            "    fdst.write(buf)\n",
            "  File \"/usr/lib/python3.6/socketserver.py\", line 800, in write\n",
            "    self._sock.sendall(b)\n",
            "ConnectionResetError: [Errno 104] Connection reset by peer\n",
            "----------------------------------------\n",
            "----------------------------------------\n",
            "Exception happened during processing of request from ('::ffff:127.0.0.1', 52010, 0, 0)\n",
            "Traceback (most recent call last):\n",
            "  File \"/usr/lib/python3.6/socketserver.py\", line 317, in _handle_request_noblock\n",
            "    self.process_request(request, client_address)\n",
            "  File \"/usr/lib/python3.6/socketserver.py\", line 348, in process_request\n",
            "    self.finish_request(request, client_address)\n",
            "  File \"/usr/lib/python3.6/socketserver.py\", line 361, in finish_request\n",
            "    self.RequestHandlerClass(request, client_address, self)\n",
            "  File \"/usr/lib/python3.6/socketserver.py\", line 721, in __init__\n",
            "    self.handle()\n",
            "  File \"/usr/lib/python3.6/http/server.py\", line 418, in handle\n",
            "    self.handle_one_request()\n",
            "  File \"/usr/lib/python3.6/http/server.py\", line 406, in handle_one_request\n",
            "    method()\n",
            "  File \"/usr/lib/python3.6/http/server.py\", line 639, in do_GET\n",
            "    self.copyfile(f, self.wfile)\n",
            "  File \"/usr/lib/python3.6/http/server.py\", line 800, in copyfile\n",
            "    shutil.copyfileobj(source, outputfile)\n",
            "  File \"/usr/lib/python3.6/shutil.py\", line 82, in copyfileobj\n",
            "    fdst.write(buf)\n",
            "  File \"/usr/lib/python3.6/socketserver.py\", line 800, in write\n",
            "    self._sock.sendall(b)\n",
            "ConnectionResetError: [Errno 104] Connection reset by peer\n",
            "----------------------------------------\n"
          ],
          "name": "stderr"
        }
      ]
    }
  ]
}